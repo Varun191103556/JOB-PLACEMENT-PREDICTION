{
 "cells": [
  {
   "cell_type": "markdown",
   "id": "ec13992d",
   "metadata": {},
   "source": [
    "## Job Placement Prediction using Machine Learning"
   ]
  },
  {
   "cell_type": "markdown",
   "id": "2797f09e",
   "metadata": {},
   "source": [
    "Importing the necessary libraries for dataframe creation and manipulation"
   ]
  },
  {
   "cell_type": "code",
   "execution_count": 1,
   "id": "5dd9e891",
   "metadata": {},
   "outputs": [],
   "source": [
    "import pandas as pd\n",
    "import numpy as np\n",
    "import matplotlib.pyplot as plt\n",
    "%matplotlib inline\n",
    "import seaborn as sns"
   ]
  },
  {
   "cell_type": "markdown",
   "id": "a3b34965",
   "metadata": {},
   "source": [
    "Importing the dataset into the Jupyter Notebook environment"
   ]
  },
  {
   "cell_type": "code",
   "execution_count": 314,
   "id": "4e7e4235",
   "metadata": {
    "scrolled": true
   },
   "outputs": [
    {
     "data": {
      "text/html": [
       "<div>\n",
       "<style scoped>\n",
       "    .dataframe tbody tr th:only-of-type {\n",
       "        vertical-align: middle;\n",
       "    }\n",
       "\n",
       "    .dataframe tbody tr th {\n",
       "        vertical-align: top;\n",
       "    }\n",
       "\n",
       "    .dataframe thead th {\n",
       "        text-align: right;\n",
       "    }\n",
       "</style>\n",
       "<table border=\"1\" class=\"dataframe\">\n",
       "  <thead>\n",
       "    <tr style=\"text-align: right;\">\n",
       "      <th></th>\n",
       "      <th>gender</th>\n",
       "      <th>ssc_percentage</th>\n",
       "      <th>ssc_board</th>\n",
       "      <th>hsc_percentage</th>\n",
       "      <th>hsc_board</th>\n",
       "      <th>hsc_subject</th>\n",
       "      <th>degree_percentage</th>\n",
       "      <th>undergrad_degree</th>\n",
       "      <th>work_experience</th>\n",
       "      <th>emp_test_percentage</th>\n",
       "      <th>specialisation</th>\n",
       "      <th>mba_percent</th>\n",
       "      <th>status</th>\n",
       "    </tr>\n",
       "  </thead>\n",
       "  <tbody>\n",
       "    <tr>\n",
       "      <th>0</th>\n",
       "      <td>M</td>\n",
       "      <td>67.00</td>\n",
       "      <td>Others</td>\n",
       "      <td>91.00</td>\n",
       "      <td>Others</td>\n",
       "      <td>Commerce</td>\n",
       "      <td>58.00</td>\n",
       "      <td>Sci&amp;Tech</td>\n",
       "      <td>No</td>\n",
       "      <td>55.0</td>\n",
       "      <td>Mkt&amp;HR</td>\n",
       "      <td>58.80</td>\n",
       "      <td>Placed</td>\n",
       "    </tr>\n",
       "    <tr>\n",
       "      <th>1</th>\n",
       "      <td>M</td>\n",
       "      <td>79.33</td>\n",
       "      <td>Central</td>\n",
       "      <td>78.33</td>\n",
       "      <td>Others</td>\n",
       "      <td>Science</td>\n",
       "      <td>77.48</td>\n",
       "      <td>Sci&amp;Tech</td>\n",
       "      <td>Yes</td>\n",
       "      <td>86.5</td>\n",
       "      <td>Mkt&amp;Fin</td>\n",
       "      <td>66.28</td>\n",
       "      <td>Placed</td>\n",
       "    </tr>\n",
       "    <tr>\n",
       "      <th>2</th>\n",
       "      <td>M</td>\n",
       "      <td>65.00</td>\n",
       "      <td>Central</td>\n",
       "      <td>68.00</td>\n",
       "      <td>Central</td>\n",
       "      <td>Arts</td>\n",
       "      <td>64.00</td>\n",
       "      <td>Comm&amp;Mgmt</td>\n",
       "      <td>No</td>\n",
       "      <td>75.0</td>\n",
       "      <td>Mkt&amp;Fin</td>\n",
       "      <td>57.80</td>\n",
       "      <td>Placed</td>\n",
       "    </tr>\n",
       "    <tr>\n",
       "      <th>3</th>\n",
       "      <td>M</td>\n",
       "      <td>56.00</td>\n",
       "      <td>Central</td>\n",
       "      <td>52.00</td>\n",
       "      <td>Central</td>\n",
       "      <td>Science</td>\n",
       "      <td>52.00</td>\n",
       "      <td>Sci&amp;Tech</td>\n",
       "      <td>No</td>\n",
       "      <td>66.0</td>\n",
       "      <td>Mkt&amp;HR</td>\n",
       "      <td>59.43</td>\n",
       "      <td>Not Placed</td>\n",
       "    </tr>\n",
       "    <tr>\n",
       "      <th>4</th>\n",
       "      <td>M</td>\n",
       "      <td>85.80</td>\n",
       "      <td>Central</td>\n",
       "      <td>73.60</td>\n",
       "      <td>Central</td>\n",
       "      <td>Commerce</td>\n",
       "      <td>73.30</td>\n",
       "      <td>Comm&amp;Mgmt</td>\n",
       "      <td>No</td>\n",
       "      <td>96.8</td>\n",
       "      <td>Mkt&amp;Fin</td>\n",
       "      <td>55.50</td>\n",
       "      <td>Placed</td>\n",
       "    </tr>\n",
       "  </tbody>\n",
       "</table>\n",
       "</div>"
      ],
      "text/plain": [
       "  gender  ssc_percentage ssc_board  hsc_percentage hsc_board hsc_subject  \\\n",
       "0      M           67.00    Others           91.00    Others    Commerce   \n",
       "1      M           79.33   Central           78.33    Others     Science   \n",
       "2      M           65.00   Central           68.00   Central        Arts   \n",
       "3      M           56.00   Central           52.00   Central     Science   \n",
       "4      M           85.80   Central           73.60   Central    Commerce   \n",
       "\n",
       "   degree_percentage undergrad_degree work_experience  emp_test_percentage  \\\n",
       "0              58.00         Sci&Tech              No                 55.0   \n",
       "1              77.48         Sci&Tech             Yes                 86.5   \n",
       "2              64.00        Comm&Mgmt              No                 75.0   \n",
       "3              52.00         Sci&Tech              No                 66.0   \n",
       "4              73.30        Comm&Mgmt              No                 96.8   \n",
       "\n",
       "  specialisation  mba_percent      status  \n",
       "0         Mkt&HR        58.80      Placed  \n",
       "1        Mkt&Fin        66.28      Placed  \n",
       "2        Mkt&Fin        57.80      Placed  \n",
       "3         Mkt&HR        59.43  Not Placed  \n",
       "4        Mkt&Fin        55.50      Placed  "
      ]
     },
     "execution_count": 314,
     "metadata": {},
     "output_type": "execute_result"
    }
   ],
   "source": [
    "df = pd.read_csv(\"Job_Placement_Data.csv\")\n",
    "df.head()"
   ]
  },
  {
   "cell_type": "markdown",
   "id": "21015a3c",
   "metadata": {},
   "source": [
    "Understanding the feature variables of the dataset"
   ]
  },
  {
   "cell_type": "markdown",
   "id": "31cb0600",
   "metadata": {},
   "source": [
    "This file contains different attribute of the candidates educational history and work experience. The detailed data dictionary is given below:\n",
    "\n",
    "### Data Dictionary:\n",
    "\n",
    "gender : Gender of the candidate\n",
    "\n",
    "ssc_percentage : Senior secondary exams percentage (10th Grade)\n",
    "\n",
    "ssc_board : Board of education for ssc exams\n",
    "\n",
    "hsc_percentage : Higher secondary exams percentage (12th Grade)\n",
    "\n",
    "hsc_borad : Board of education for hsc exams\n",
    "\n",
    "hsc_subject : Subject of study for hsc\n",
    "\n",
    "degree_percentage : Percentage of marks in undergrad degree\n",
    "\n",
    "undergrad_degree : Undergrad degree majors\n",
    "\n",
    "work_experience : Past work experience\n",
    "\n",
    "emp_test_percentage : Aptitude test percentage\n",
    "\n",
    "specialization : Postgrad degree majors - (MBA specialization)\n",
    "\n",
    "mba_percent : Percentage of marks in MBA degree\n",
    "\n",
    "status (TARGET) : Status of placement. Placed / Not Placed\n"
   ]
  },
  {
   "cell_type": "code",
   "execution_count": 3,
   "id": "5b57ce1e",
   "metadata": {},
   "outputs": [
    {
     "name": "stdout",
     "output_type": "stream",
     "text": [
      "<class 'pandas.core.frame.DataFrame'>\n",
      "RangeIndex: 215 entries, 0 to 214\n",
      "Data columns (total 13 columns):\n",
      " #   Column               Non-Null Count  Dtype  \n",
      "---  ------               --------------  -----  \n",
      " 0   gender               215 non-null    object \n",
      " 1   ssc_percentage       215 non-null    float64\n",
      " 2   ssc_board            215 non-null    object \n",
      " 3   hsc_percentage       215 non-null    float64\n",
      " 4   hsc_board            215 non-null    object \n",
      " 5   hsc_subject          215 non-null    object \n",
      " 6   degree_percentage    215 non-null    float64\n",
      " 7   undergrad_degree     215 non-null    object \n",
      " 8   work_experience      215 non-null    object \n",
      " 9   emp_test_percentage  215 non-null    float64\n",
      " 10  specialisation       215 non-null    object \n",
      " 11  mba_percent          215 non-null    float64\n",
      " 12  status               215 non-null    object \n",
      "dtypes: float64(5), object(8)\n",
      "memory usage: 22.0+ KB\n"
     ]
    }
   ],
   "source": [
    "df.info()"
   ]
  },
  {
   "cell_type": "code",
   "execution_count": 7,
   "id": "bad9364c",
   "metadata": {},
   "outputs": [
    {
     "data": {
      "text/plain": [
       "<AxesSubplot:>"
      ]
     },
     "execution_count": 7,
     "metadata": {},
     "output_type": "execute_result"
    },
    {
     "data": {
      "image/png": "[encoded data removed]",
      "text/plain": [
       "<Figure size 432x288 with 2 Axes>"
      ]
     },
     "metadata": {
      "needs_background": "light"
     },
     "output_type": "display_data"
    }
   ],
   "source": [
    "sns.heatmap(df.corr() , cmap = 'rainbow' ,annot = True)"
   ]
  },
  {
   "cell_type": "markdown",
   "id": "004fc183",
   "metadata": {},
   "source": [
    "The above heatmap shows the correlation matrix of the above dataset.\n",
    "From the matrix we can see that none of the feature variables are not highly correlated with each other."
   ]
  },
  {
   "cell_type": "code",
   "execution_count": 8,
   "id": "941a14ec",
   "metadata": {},
   "outputs": [
    {
     "data": {
      "text/plain": [
       "gender                 0\n",
       "ssc_percentage         0\n",
       "ssc_board              0\n",
       "hsc_percentage         0\n",
       "hsc_board              0\n",
       "hsc_subject            0\n",
       "degree_percentage      0\n",
       "undergrad_degree       0\n",
       "work_experience        0\n",
       "emp_test_percentage    0\n",
       "specialisation         0\n",
       "mba_percent            0\n",
       "status                 0\n",
       "dtype: int64"
      ]
     },
     "execution_count": 8,
     "metadata": {},
     "output_type": "execute_result"
    }
   ],
   "source": [
    "df.isnull().sum()"
   ]
  },
  {
   "cell_type": "code",
   "execution_count": 14,
   "id": "5bd6213e",
   "metadata": {},
   "outputs": [],
   "source": [
    "cat_feat = df.select_dtypes(include='object').columns"
   ]
  },
  {
   "cell_type": "markdown",
   "id": "47114a72",
   "metadata": {},
   "source": [
    "### Understanding the variation of the categorical data values in the dataset"
   ]
  },
  {
   "cell_type": "code",
   "execution_count": 20,
   "id": "fe0ecaa5",
   "metadata": {},
   "outputs": [
    {
     "name": "stderr",
     "output_type": "stream",
     "text": [
      "C:\\Users\\megha\\anaconda3\\lib\\site-packages\\seaborn\\_decorators.py:36: FutureWarning: Pass the following variable as a keyword arg: x. From version 0.12, the only valid positional argument will be `data`, and passing other arguments without an explicit keyword will result in an error or misinterpretation.\n",
      "  warnings.warn(\n"
     ]
    },
    {
     "data": {
      "image/png": "[encoded data removed]",
      "text/plain": [
       "<Figure size 432x288 with 1 Axes>"
      ]
     },
     "metadata": {
      "needs_background": "light"
     },
     "output_type": "display_data"
    },
    {
     "name": "stderr",
     "output_type": "stream",
     "text": [
      "C:\\Users\\megha\\anaconda3\\lib\\site-packages\\seaborn\\_decorators.py:36: FutureWarning: Pass the following variable as a keyword arg: x. From version 0.12, the only valid positional argument will be `data`, and passing other arguments without an explicit keyword will result in an error or misinterpretation.\n",
      "  warnings.warn(\n"
     ]
    },
    {
     "data": {
      "image/png": "[encoded data removed]",
      "text/plain": [
       "<Figure size 432x288 with 1 Axes>"
      ]
     },
     "metadata": {
      "needs_background": "light"
     },
     "output_type": "display_data"
    },
    {
     "name": "stderr",
     "output_type": "stream",
     "text": [
      "C:\\Users\\megha\\anaconda3\\lib\\site-packages\\seaborn\\_decorators.py:36: FutureWarning: Pass the following variable as a keyword arg: x. From version 0.12, the only valid positional argument will be `data`, and passing other arguments without an explicit keyword will result in an error or misinterpretation.\n",
      "  warnings.warn(\n"
     ]
    },
    {
     "data": {
      "image/png": "[encoded data removed]",
      "text/plain": [
       "<Figure size 432x288 with 1 Axes>"
      ]
     },
     "metadata": {
      "needs_background": "light"
     },
     "output_type": "display_data"
    },
    {
     "name": "stderr",
     "output_type": "stream",
     "text": [
      "C:\\Users\\megha\\anaconda3\\lib\\site-packages\\seaborn\\_decorators.py:36: FutureWarning: Pass the following variable as a keyword arg: x. From version 0.12, the only valid positional argument will be `data`, and passing other arguments without an explicit keyword will result in an error or misinterpretation.\n",
      "  warnings.warn(\n"
     ]
    },
    {
     "data": {
      "image/png": "[encoded data removed]",
      "text/plain": [
       "<Figure size 432x288 with 1 Axes>"
      ]
     },
     "metadata": {
      "needs_background": "light"
     },
     "output_type": "display_data"
    },
    {
     "name": "stderr",
     "output_type": "stream",
     "text": [
      "C:\\Users\\megha\\anaconda3\\lib\\site-packages\\seaborn\\_decorators.py:36: FutureWarning: Pass the following variable as a keyword arg: x. From version 0.12, the only valid positional argument will be `data`, and passing other arguments without an explicit keyword will result in an error or misinterpretation.\n",
      "  warnings.warn(\n"
     ]
    },
    {
     "data": {
      "image/png": "[encoded data removed]",
      "text/plain": [
       "<Figure size 432x288 with 1 Axes>"
      ]
     },
     "metadata": {
      "needs_background": "light"
     },
     "output_type": "display_data"
    },
    {
     "name": "stderr",
     "output_type": "stream",
     "text": [
      "C:\\Users\\megha\\anaconda3\\lib\\site-packages\\seaborn\\_decorators.py:36: FutureWarning: Pass the following variable as a keyword arg: x. From version 0.12, the only valid positional argument will be `data`, and passing other arguments without an explicit keyword will result in an error or misinterpretation.\n",
      "  warnings.warn(\n"
     ]
    },
    {
     "data": {
      "image/png": "[encoded data removed]",
      "text/plain": [
       "<Figure size 432x288 with 1 Axes>"
      ]
     },
     "metadata": {
      "needs_background": "light"
     },
     "output_type": "display_data"
    },
    {
     "name": "stderr",
     "output_type": "stream",
     "text": [
      "C:\\Users\\megha\\anaconda3\\lib\\site-packages\\seaborn\\_decorators.py:36: FutureWarning: Pass the following variable as a keyword arg: x. From version 0.12, the only valid positional argument will be `data`, and passing other arguments without an explicit keyword will result in an error or misinterpretation.\n",
      "  warnings.warn(\n"
     ]
    },
    {
     "data": {
      "image/png": "[encoded data removed]",
      "text/plain": [
       "<Figure size 432x288 with 1 Axes>"
      ]
     },
     "metadata": {
      "needs_background": "light"
     },
     "output_type": "display_data"
    },
    {
     "name": "stderr",
     "output_type": "stream",
     "text": [
      "C:\\Users\\megha\\anaconda3\\lib\\site-packages\\seaborn\\_decorators.py:36: FutureWarning: Pass the following variable as a keyword arg: x. From version 0.12, the only valid positional argument will be `data`, and passing other arguments without an explicit keyword will result in an error or misinterpretation.\n",
      "  warnings.warn(\n"
     ]
    },
    {
     "data": {
      "image/png": "[encoded data removed]",
      "text/plain": [
       "<Figure size 432x288 with 1 Axes>"
      ]
     },
     "metadata": {
      "needs_background": "light"
     },
     "output_type": "display_data"
    }
   ],
   "source": [
    "for i in cat_feat:\n",
    "    sns.countplot(df[i])\n",
    "    plt.show()"
   ]
  },
  {
   "cell_type": "code",
   "execution_count": 24,
   "id": "f724b562",
   "metadata": {
    "scrolled": true
   },
   "outputs": [
    {
     "name": "stdout",
     "output_type": "stream",
     "text": [
      "M    139\n",
      "F     76\n",
      "Name: gender, dtype: int64\n",
      "Central    116\n",
      "Others      99\n",
      "Name: ssc_board, dtype: int64\n",
      "Others     131\n",
      "Central     84\n",
      "Name: hsc_board, dtype: int64\n",
      "Commerce    113\n",
      "Science      91\n",
      "Arts         11\n",
      "Name: hsc_subject, dtype: int64\n",
      "Comm&Mgmt    145\n",
      "Sci&Tech      59\n",
      "Others        11\n",
      "Name: undergrad_degree, dtype: int64\n",
      "No     141\n",
      "Yes     74\n",
      "Name: work_experience, dtype: int64\n",
      "Mkt&Fin    120\n",
      "Mkt&HR      95\n",
      "Name: specialisation, dtype: int64\n",
      "Placed        148\n",
      "Not Placed     67\n",
      "Name: status, dtype: int64\n"
     ]
    }
   ],
   "source": [
    "for i in cat_feat:\n",
    "    print(df[i].value_counts())"
   ]
  },
  {
   "cell_type": "markdown",
   "id": "27e27cb8",
   "metadata": {},
   "source": [
    "## Preparing the dataset for Training\n",
    "### One- hot encoding / Label Encoding"
   ]
  },
  {
   "cell_type": "code",
   "execution_count": 334,
   "id": "5c533b7d",
   "metadata": {},
   "outputs": [],
   "source": [
    "df.gender.replace({\"M\":1,\"F\":0},inplace=True)"
   ]
  },
  {
   "cell_type": "code",
   "execution_count": 335,
   "id": "5a5ed9b5",
   "metadata": {},
   "outputs": [],
   "source": [
    "df.ssc_board.replace({\"Central\":1,\"Others\":0} , inplace=True)"
   ]
  },
  {
   "cell_type": "code",
   "execution_count": 347,
   "id": "4a0ec532",
   "metadata": {},
   "outputs": [],
   "source": [
    "\n",
    "df.hsc_board.replace({\"Central\":1,\"Others\":0}  , inplace=True) "
   ]
  },
  {
   "cell_type": "code",
   "execution_count": 337,
   "id": "d7f3f71b",
   "metadata": {},
   "outputs": [],
   "source": [
    "df.hsc_subject.replace({\"Commerce\":1,\"Science\":2,\"Arts\":0} ,inplace=True) "
   ]
  },
  {
   "cell_type": "code",
   "execution_count": 338,
   "id": "3a8160c1",
   "metadata": {},
   "outputs": [],
   "source": [
    "df.undergrad_degree.replace({\"Comm&Mgmt\":1,\"Sci&Tech\":2,\"Others\":0} , inplace =True)  "
   ]
  },
  {
   "cell_type": "code",
   "execution_count": 339,
   "id": "ebf86778",
   "metadata": {},
   "outputs": [],
   "source": [
    "df.work_experience.replace({\"No\" :0 , \"Yes\":1} , inplace=True) "
   ]
  },
  {
   "cell_type": "code",
   "execution_count": 340,
   "id": "69ce197d",
   "metadata": {},
   "outputs": [],
   "source": [
    "df.specialisation.replace({\"Mkt&Fin\":1,\"Mkt&HR\":2} ,inplace=True)"
   ]
  },
  {
   "cell_type": "code",
   "execution_count": 341,
   "id": "2f23026a",
   "metadata": {},
   "outputs": [],
   "source": [
    "df.status.replace({\"Placed\":1 , \"Not Placed\":0} , inplace = True)"
   ]
  },
  {
   "cell_type": "markdown",
   "id": "b8809a3d",
   "metadata": {},
   "source": [
    "## Creating the Training and Testing Dataset"
   ]
  },
  {
   "cell_type": "code",
   "execution_count": 112,
   "id": "cece236d",
   "metadata": {},
   "outputs": [],
   "source": [
    "from sklearn.model_selection import train_test_split"
   ]
  },
  {
   "cell_type": "code",
   "execution_count": 231,
   "id": "1419f648",
   "metadata": {},
   "outputs": [
    {
     "data": {
      "text/plain": [
       "<AxesSubplot:>"
      ]
     },
     "execution_count": 231,
     "metadata": {},
     "output_type": "execute_result"
    },
    {
     "data": {
      "image/png": "[encoded data removed]",
      "text/plain": [
       "<Figure size 432x288 with 2 Axes>"
      ]
     },
     "metadata": {
      "needs_background": "light"
     },
     "output_type": "display_data"
    }
   ],
   "source": [
    "sns.heatmap(df.corr(), cmap  = 'rainbow',annot =True)\n"
   ]
  },
  {
   "cell_type": "code",
   "execution_count": 355,
   "id": "dd96ee6d",
   "metadata": {},
   "outputs": [],
   "source": [
    "X = df.drop(columns = [\"gender\",\"status\"])\n",
    "Y = df.iloc[:,-1]"
   ]
  },
  {
   "cell_type": "code",
   "execution_count": 356,
   "id": "848f0471",
   "metadata": {},
   "outputs": [],
   "source": [
    "xtrain , xtest , ytrain , ytest = train_test_split(X,Y, test_size = 0.2 , random_state = 5 ,stratify = Y)"
   ]
  },
  {
   "cell_type": "code",
   "execution_count": 357,
   "id": "dd64c893",
   "metadata": {},
   "outputs": [
    {
     "name": "stdout",
     "output_type": "stream",
     "text": [
      "(172, 11) (43, 11) (172,) (43,)\n"
     ]
    }
   ],
   "source": [
    "print(xtrain.shape,xtest.shape,ytrain.shape,ytest.shape)"
   ]
  },
  {
   "cell_type": "code",
   "execution_count": 358,
   "id": "fff748d5",
   "metadata": {},
   "outputs": [],
   "source": [
    "from sklearn.linear_model import LogisticRegression\n",
    "model = LogisticRegression(max_iter = 100)"
   ]
  },
  {
   "cell_type": "code",
   "execution_count": 359,
   "id": "b17c4338",
   "metadata": {},
   "outputs": [
    {
     "name": "stderr",
     "output_type": "stream",
     "text": [
      "C:\\Users\\megha\\anaconda3\\lib\\site-packages\\sklearn\\linear_model\\_logistic.py:763: ConvergenceWarning: lbfgs failed to converge (status=1):\n",
      "STOP: TOTAL NO. of ITERATIONS REACHED LIMIT.\n",
      "\n",
      "Increase the number of iterations (max_iter) or scale the data as shown in:\n",
      "    https://scikit-learn.org/stable/modules/preprocessing.html\n",
      "Please also refer to the documentation for alternative solver options:\n",
      "    https://scikit-learn.org/stable/modules/linear_model.html#logistic-regression\n",
      "  n_iter_i = _check_optimize_result(\n"
     ]
    },
    {
     "data": {
      "text/plain": [
       "LogisticRegression()"
      ]
     },
     "execution_count": 359,
     "metadata": {},
     "output_type": "execute_result"
    }
   ],
   "source": [
    "model.fit(xtrain,ytrain)"
   ]
  },
  {
   "cell_type": "code",
   "execution_count": 360,
   "id": "5313c181",
   "metadata": {},
   "outputs": [],
   "source": [
    "p =model.predict(xtrain)"
   ]
  },
  {
   "cell_type": "code",
   "execution_count": 361,
   "id": "3aa5c392",
   "metadata": {},
   "outputs": [
    {
     "data": {
      "text/plain": [
       "0.9302325581395349"
      ]
     },
     "execution_count": 361,
     "metadata": {},
     "output_type": "execute_result"
    }
   ],
   "source": [
    "model.score(xtest,ytest)"
   ]
  },
  {
   "cell_type": "markdown",
   "id": "03c0ee9d",
   "metadata": {},
   "source": [
    "## Checking using Random values"
   ]
  },
  {
   "cell_type": "code",
   "execution_count": 232,
   "id": "aca277f6",
   "metadata": {},
   "outputs": [],
   "source": [
    "import pickle"
   ]
  },
  {
   "cell_type": "code",
   "execution_count": 233,
   "id": "10376bd9",
   "metadata": {},
   "outputs": [
    {
     "data": {
      "text/plain": [
       "Index(['gender', 'ssc_percentage', 'ssc_board', 'hsc_percentage', 'hsc_board',\n",
       "       'hsc_subject', 'degree_percentage', 'undergrad_degree',\n",
       "       'work_experience', 'emp_test_percentage', 'specialisation',\n",
       "       'mba_percent', 'status'],\n",
       "      dtype='object')"
      ]
     },
     "execution_count": 233,
     "metadata": {},
     "output_type": "execute_result"
    }
   ],
   "source": [
    "df.columns"
   ]
  },
  {
   "cell_type": "code",
   "execution_count": 281,
   "id": "77101a44",
   "metadata": {},
   "outputs": [],
   "source": [
    "def conv(a):\n",
    "    df = pd.DataFrame(a , columns = ['gender', 'ssc_percentage', 'ssc_board', 'hsc_percentage', 'hsc_board','hsc_subject', 'degree_percentage', 'undergrad_degree',\n",
    "       'work_experience', 'emp_test_percentage', 'specialisation',\n",
    "       'mba_percent'])\n",
    "    df.gender.replace({\"M\":1,\"F\":0},inplace=True)\n",
    "    df.ssc_board.replace({\"Central\":1,\"Others\":0} , inplace=True)\n",
    "    df.hsc_board.replace({\"Central\":1,\"Others\":0}  , inplace=True) \n",
    "    df.hsc_subject.replace({\"Commerce\":1,\"Science\":2,\"Arts\":0} ,inplace=True) \n",
    "    df.undergrad_degree.replace({\"Comm&Mgmt\":1,\"Sci&Tech\":2,\"Others\":0} , inplace =True)  \n",
    "    df.work_experience.replace({\"No\" :0 , \"Yes\":1} , inplace=True) \n",
    "    df.specialisation.replace({\"Mkt&Fin\":1,\"Mkt&HR\":2} ,inplace=True)\n",
    "    df.drop(columns ='gender' , inplace=True)\n",
    "    df = np.array(df)\n",
    "    return df"
   ]
  },
  {
   "cell_type": "code",
   "execution_count": 318,
   "id": "6c787efb",
   "metadata": {},
   "outputs": [],
   "source": [
    "a = [['M',56.0,'Central',52.0,'Central','Science',52.00,'Sci&Tech','No',66.00,'Mkt&HR',59.43]]"
   ]
  },
  {
   "cell_type": "code",
   "execution_count": 319,
   "id": "533f95b5",
   "metadata": {},
   "outputs": [],
   "source": [
    "x = conv(a)"
   ]
  },
  {
   "cell_type": "code",
   "execution_count": 320,
   "id": "8488087f",
   "metadata": {},
   "outputs": [
    {
     "data": {
      "text/plain": [
       "array([[56.  ,  1.  , 52.  ,  1.  ,  2.  , 52.  ,  2.  ,  0.  , 66.  ,\n",
       "         2.  , 59.43]])"
      ]
     },
     "execution_count": 320,
     "metadata": {},
     "output_type": "execute_result"
    }
   ],
   "source": [
    "x"
   ]
  },
  {
   "cell_type": "code",
   "execution_count": 321,
   "id": "33ef052f",
   "metadata": {},
   "outputs": [
    {
     "data": {
      "text/plain": [
       "array([0], dtype=int64)"
      ]
     },
     "execution_count": 321,
     "metadata": {},
     "output_type": "execute_result"
    }
   ],
   "source": [
    "model.predict(x)"
   ]
  },
  {
   "cell_type": "code",
   "execution_count": 317,
   "id": "ba4c0b0b",
   "metadata": {
    "scrolled": true
   },
   "outputs": [
    {
     "data": {
      "text/html": [
       "<div>\n",
       "<style scoped>\n",
       "    .dataframe tbody tr th:only-of-type {\n",
       "        vertical-align: middle;\n",
       "    }\n",
       "\n",
       "    .dataframe tbody tr th {\n",
       "        vertical-align: top;\n",
       "    }\n",
       "\n",
       "    .dataframe thead th {\n",
       "        text-align: right;\n",
       "    }\n",
       "</style>\n",
       "<table border=\"1\" class=\"dataframe\">\n",
       "  <thead>\n",
       "    <tr style=\"text-align: right;\">\n",
       "      <th></th>\n",
       "      <th>gender</th>\n",
       "      <th>ssc_percentage</th>\n",
       "      <th>ssc_board</th>\n",
       "      <th>hsc_percentage</th>\n",
       "      <th>hsc_board</th>\n",
       "      <th>hsc_subject</th>\n",
       "      <th>degree_percentage</th>\n",
       "      <th>undergrad_degree</th>\n",
       "      <th>work_experience</th>\n",
       "      <th>emp_test_percentage</th>\n",
       "      <th>specialisation</th>\n",
       "      <th>mba_percent</th>\n",
       "      <th>status</th>\n",
       "    </tr>\n",
       "  </thead>\n",
       "  <tbody>\n",
       "    <tr>\n",
       "      <th>3</th>\n",
       "      <td>M</td>\n",
       "      <td>56.0</td>\n",
       "      <td>Central</td>\n",
       "      <td>52.0</td>\n",
       "      <td>Central</td>\n",
       "      <td>Science</td>\n",
       "      <td>52.00</td>\n",
       "      <td>Sci&amp;Tech</td>\n",
       "      <td>No</td>\n",
       "      <td>66.00</td>\n",
       "      <td>Mkt&amp;HR</td>\n",
       "      <td>59.43</td>\n",
       "      <td>Not Placed</td>\n",
       "    </tr>\n",
       "    <tr>\n",
       "      <th>5</th>\n",
       "      <td>M</td>\n",
       "      <td>55.0</td>\n",
       "      <td>Others</td>\n",
       "      <td>49.8</td>\n",
       "      <td>Others</td>\n",
       "      <td>Science</td>\n",
       "      <td>67.25</td>\n",
       "      <td>Sci&amp;Tech</td>\n",
       "      <td>Yes</td>\n",
       "      <td>55.00</td>\n",
       "      <td>Mkt&amp;Fin</td>\n",
       "      <td>51.58</td>\n",
       "      <td>Not Placed</td>\n",
       "    </tr>\n",
       "    <tr>\n",
       "      <th>6</th>\n",
       "      <td>F</td>\n",
       "      <td>46.0</td>\n",
       "      <td>Others</td>\n",
       "      <td>49.2</td>\n",
       "      <td>Others</td>\n",
       "      <td>Commerce</td>\n",
       "      <td>79.00</td>\n",
       "      <td>Comm&amp;Mgmt</td>\n",
       "      <td>No</td>\n",
       "      <td>74.28</td>\n",
       "      <td>Mkt&amp;Fin</td>\n",
       "      <td>53.29</td>\n",
       "      <td>Not Placed</td>\n",
       "    </tr>\n",
       "    <tr>\n",
       "      <th>9</th>\n",
       "      <td>M</td>\n",
       "      <td>58.0</td>\n",
       "      <td>Central</td>\n",
       "      <td>70.0</td>\n",
       "      <td>Central</td>\n",
       "      <td>Commerce</td>\n",
       "      <td>61.00</td>\n",
       "      <td>Comm&amp;Mgmt</td>\n",
       "      <td>No</td>\n",
       "      <td>54.00</td>\n",
       "      <td>Mkt&amp;Fin</td>\n",
       "      <td>52.21</td>\n",
       "      <td>Not Placed</td>\n",
       "    </tr>\n",
       "    <tr>\n",
       "      <th>12</th>\n",
       "      <td>F</td>\n",
       "      <td>47.0</td>\n",
       "      <td>Central</td>\n",
       "      <td>55.0</td>\n",
       "      <td>Others</td>\n",
       "      <td>Science</td>\n",
       "      <td>65.00</td>\n",
       "      <td>Comm&amp;Mgmt</td>\n",
       "      <td>No</td>\n",
       "      <td>62.00</td>\n",
       "      <td>Mkt&amp;HR</td>\n",
       "      <td>65.04</td>\n",
       "      <td>Not Placed</td>\n",
       "    </tr>\n",
       "    <tr>\n",
       "      <th>...</th>\n",
       "      <td>...</td>\n",
       "      <td>...</td>\n",
       "      <td>...</td>\n",
       "      <td>...</td>\n",
       "      <td>...</td>\n",
       "      <td>...</td>\n",
       "      <td>...</td>\n",
       "      <td>...</td>\n",
       "      <td>...</td>\n",
       "      <td>...</td>\n",
       "      <td>...</td>\n",
       "      <td>...</td>\n",
       "      <td>...</td>\n",
       "    </tr>\n",
       "    <tr>\n",
       "      <th>198</th>\n",
       "      <td>F</td>\n",
       "      <td>67.0</td>\n",
       "      <td>Central</td>\n",
       "      <td>70.0</td>\n",
       "      <td>Central</td>\n",
       "      <td>Commerce</td>\n",
       "      <td>65.00</td>\n",
       "      <td>Others</td>\n",
       "      <td>No</td>\n",
       "      <td>88.00</td>\n",
       "      <td>Mkt&amp;HR</td>\n",
       "      <td>71.96</td>\n",
       "      <td>Not Placed</td>\n",
       "    </tr>\n",
       "    <tr>\n",
       "      <th>201</th>\n",
       "      <td>M</td>\n",
       "      <td>54.2</td>\n",
       "      <td>Central</td>\n",
       "      <td>63.0</td>\n",
       "      <td>Others</td>\n",
       "      <td>Science</td>\n",
       "      <td>58.00</td>\n",
       "      <td>Comm&amp;Mgmt</td>\n",
       "      <td>No</td>\n",
       "      <td>79.00</td>\n",
       "      <td>Mkt&amp;HR</td>\n",
       "      <td>58.44</td>\n",
       "      <td>Not Placed</td>\n",
       "    </tr>\n",
       "    <tr>\n",
       "      <th>206</th>\n",
       "      <td>M</td>\n",
       "      <td>41.0</td>\n",
       "      <td>Central</td>\n",
       "      <td>42.0</td>\n",
       "      <td>Central</td>\n",
       "      <td>Science</td>\n",
       "      <td>60.00</td>\n",
       "      <td>Comm&amp;Mgmt</td>\n",
       "      <td>No</td>\n",
       "      <td>97.00</td>\n",
       "      <td>Mkt&amp;Fin</td>\n",
       "      <td>53.39</td>\n",
       "      <td>Not Placed</td>\n",
       "    </tr>\n",
       "    <tr>\n",
       "      <th>208</th>\n",
       "      <td>F</td>\n",
       "      <td>43.0</td>\n",
       "      <td>Central</td>\n",
       "      <td>60.0</td>\n",
       "      <td>Others</td>\n",
       "      <td>Science</td>\n",
       "      <td>65.00</td>\n",
       "      <td>Comm&amp;Mgmt</td>\n",
       "      <td>No</td>\n",
       "      <td>92.66</td>\n",
       "      <td>Mkt&amp;HR</td>\n",
       "      <td>62.92</td>\n",
       "      <td>Not Placed</td>\n",
       "    </tr>\n",
       "    <tr>\n",
       "      <th>214</th>\n",
       "      <td>M</td>\n",
       "      <td>62.0</td>\n",
       "      <td>Central</td>\n",
       "      <td>58.0</td>\n",
       "      <td>Others</td>\n",
       "      <td>Science</td>\n",
       "      <td>53.00</td>\n",
       "      <td>Comm&amp;Mgmt</td>\n",
       "      <td>No</td>\n",
       "      <td>89.00</td>\n",
       "      <td>Mkt&amp;HR</td>\n",
       "      <td>60.22</td>\n",
       "      <td>Not Placed</td>\n",
       "    </tr>\n",
       "  </tbody>\n",
       "</table>\n",
       "<p>67 rows × 13 columns</p>\n",
       "</div>"
      ],
      "text/plain": [
       "    gender  ssc_percentage ssc_board  hsc_percentage hsc_board hsc_subject  \\\n",
       "3        M            56.0   Central            52.0   Central     Science   \n",
       "5        M            55.0    Others            49.8    Others     Science   \n",
       "6        F            46.0    Others            49.2    Others    Commerce   \n",
       "9        M            58.0   Central            70.0   Central    Commerce   \n",
       "12       F            47.0   Central            55.0    Others     Science   \n",
       "..     ...             ...       ...             ...       ...         ...   \n",
       "198      F            67.0   Central            70.0   Central    Commerce   \n",
       "201      M            54.2   Central            63.0    Others     Science   \n",
       "206      M            41.0   Central            42.0   Central     Science   \n",
       "208      F            43.0   Central            60.0    Others     Science   \n",
       "214      M            62.0   Central            58.0    Others     Science   \n",
       "\n",
       "     degree_percentage undergrad_degree work_experience  emp_test_percentage  \\\n",
       "3                52.00         Sci&Tech              No                66.00   \n",
       "5                67.25         Sci&Tech             Yes                55.00   \n",
       "6                79.00        Comm&Mgmt              No                74.28   \n",
       "9                61.00        Comm&Mgmt              No                54.00   \n",
       "12               65.00        Comm&Mgmt              No                62.00   \n",
       "..                 ...              ...             ...                  ...   \n",
       "198              65.00           Others              No                88.00   \n",
       "201              58.00        Comm&Mgmt              No                79.00   \n",
       "206              60.00        Comm&Mgmt              No                97.00   \n",
       "208              65.00        Comm&Mgmt              No                92.66   \n",
       "214              53.00        Comm&Mgmt              No                89.00   \n",
       "\n",
       "    specialisation  mba_percent      status  \n",
       "3           Mkt&HR        59.43  Not Placed  \n",
       "5          Mkt&Fin        51.58  Not Placed  \n",
       "6          Mkt&Fin        53.29  Not Placed  \n",
       "9          Mkt&Fin        52.21  Not Placed  \n",
       "12          Mkt&HR        65.04  Not Placed  \n",
       "..             ...          ...         ...  \n",
       "198         Mkt&HR        71.96  Not Placed  \n",
       "201         Mkt&HR        58.44  Not Placed  \n",
       "206        Mkt&Fin        53.39  Not Placed  \n",
       "208         Mkt&HR        62.92  Not Placed  \n",
       "214         Mkt&HR        60.22  Not Placed  \n",
       "\n",
       "[67 rows x 13 columns]"
      ]
     },
     "execution_count": 317,
     "metadata": {},
     "output_type": "execute_result"
    }
   ],
   "source": [
    "df[df.status == \"Not Placed\"]"
   ]
  },
  {
   "cell_type": "markdown",
   "id": "de27d0de",
   "metadata": {},
   "source": [
    "# Pickleing the Model"
   ]
  },
  {
   "cell_type": "code",
   "execution_count": 322,
   "id": "7b375eb2",
   "metadata": {},
   "outputs": [],
   "source": [
    "import pickle"
   ]
  },
  {
   "cell_type": "code",
   "execution_count": 324,
   "id": "6db78e25",
   "metadata": {},
   "outputs": [],
   "source": [
    "pickle.dump(model,open('regmodel2.pkl','wb'))"
   ]
  },
  {
   "cell_type": "code",
   "execution_count": 325,
   "id": "e6e30ad4",
   "metadata": {},
   "outputs": [],
   "source": [
    "pickle.dump(conv,open('Manipulation.pkl','wb'))"
   ]
  },
  {
   "cell_type": "code",
   "execution_count": 326,
   "id": "8b5e44c6",
   "metadata": {},
   "outputs": [],
   "source": [
    "pickled_model = pickle.load(open('regmodel2.pkl','rb'))\n",
    "manipulation = pickle.load(open('Manipulation.pkl','rb'))"
   ]
  },
  {
   "cell_type": "code",
   "execution_count": 327,
   "id": "9d3293c2",
   "metadata": {},
   "outputs": [],
   "source": [
    "x = manipulation(a)"
   ]
  },
  {
   "cell_type": "code",
   "execution_count": 328,
   "id": "64fc6fc2",
   "metadata": {},
   "outputs": [
    {
     "data": {
      "text/plain": [
       "array([0], dtype=int64)"
      ]
     },
     "execution_count": 328,
     "metadata": {},
     "output_type": "execute_result"
    }
   ],
   "source": [
    "pickled_model.predict(x)"
   ]
  },
  {
   "cell_type": "code",
   "execution_count": null,
   "id": "88b4549f",
   "metadata": {},
   "outputs": [],
   "source": []
  }
 ],
 "metadata": {
  "kernelspec": {
   "display_name": "Python 3 (ipykernel)",
   "language": "python",
   "name": "python3"
  },
  "language_info": {
   "codemirror_mode": {
    "name": "ipython",
    "version": 3
   },
   "file_extension": ".py",
   "mimetype": "text/x-python",
   "name": "python",
   "nbconvert_exporter": "python",
   "pygments_lexer": "ipython3",
   "version": "3.9.7"
  }
 },
 "nbformat": 4,
 "nbformat_minor": 5
}
